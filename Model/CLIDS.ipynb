{
  "cells": [
    {
      "cell_type": "code",
      "execution_count": 1,
      "metadata": {
        "id": "v12CwBPHAXRB"
      },
      "outputs": [],
      "source": [
        "import numpy as np\n",
        "import pandas as pd\n",
        "import os\n",
        "for dirname, _, filenames in os.walk('/content/drive'):\n",
        "    for filename in filenames:\n",
        "        print(os.path.join(dirname, filename))"
      ],
      "id": "v12CwBPHAXRB"
    },
    {
      "cell_type": "code",
      "execution_count": 2,
      "metadata": {
        "id": "Bt5CE9IDyMsH",
        "colab": {
          "base_uri": "https://localhost:8080/"
        },
        "outputId": "4f354ba2-508d-48b0-8ecd-e1fd8ba984ef"
      },
      "outputs": [
        {
          "output_type": "stream",
          "name": "stdout",
          "text": [
            "Mounted at /content/drive\n"
          ]
        }
      ],
      "source": [
        "from google.colab import drive\n",
        "drive.mount('/content/drive')"
      ],
      "id": "Bt5CE9IDyMsH"
    },
    {
      "cell_type": "code",
      "execution_count": 3,
      "id": "85c59372",
      "metadata": {
        "id": "85c59372",
        "colab": {
          "base_uri": "https://localhost:8080/",
          "height": 17
        },
        "outputId": "2e684c50-e343-4488-bd5b-644862f7fbc1"
      },
      "outputs": [
        {
          "output_type": "execute_result",
          "data": {
            "text/plain": [
              "<IPython.core.display.HTML object>"
            ],
            "text/html": [
              "<style>\n",
              ".output {\n",
              "    flex-direction: row;\n",
              "}\n",
              "</style>"
            ]
          },
          "metadata": {},
          "execution_count": 3
        }
      ],
      "source": [
        "import pandas as pd\n",
        "import numpy as np\n",
        "from sklearn.model_selection import train_test_split\n",
        "from sklearn.preprocessing import MinMaxScaler\n",
        "from sklearn.metrics import r2_score\n",
        "from sklearn.metrics import mean_squared_error\n",
        "from tensorflow.keras.layers import Bidirectional, Dropout, Activation, Dense, LSTM\n",
        "from tensorflow.python.keras.layers import CuDNNLSTM\n",
        "from tensorflow.keras.models import Sequential\n",
        "from keras.models import Sequential\n",
        "from keras.layers import Dense, LSTM, Dropout, SimpleRNN , GRU , Activation\n",
        "from tensorflow.keras.layers import (BatchNormalization, SeparableConv2D, MaxPooling2D, Activation, Flatten, Dropout, Dense)\n",
        "from keras import optimizers\n",
        "import tensorflow as tf\n",
        "from keras.layers import Convolution1D, Dense, Dropout, Flatten, MaxPooling1D , AveragePooling1D\n",
        "from sklearn.preprocessing import (StandardScaler, OrdinalEncoder,LabelEncoder, MinMaxScaler, OneHotEncoder)\n",
        "from sklearn.preprocessing import Normalizer, MaxAbsScaler , RobustScaler, PowerTransformer\n",
        "import matplotlib.pyplot as plt\n",
        "from keras.utils.generic_utils import get_custom_objects\n",
        "from keras import backend as K\n",
        "from keras.layers import Activation\n",
        "from sklearn.preprocessing import LabelEncoder\n",
        "\n",
        "def configure_plotly_browser_state():\n",
        "  import IPython\n",
        "  display(IPython.core.display.HTML('''\n",
        "        <script src=\"/static/components/requirejs/require.js\"></script>\n",
        "        <script>\n",
        "          requirejs.config({\n",
        "            paths: {\n",
        "              base: '/static/base',\n",
        "              plotly: 'https://cdn.plot.ly/plotly-latest.min.js?noext',\n",
        "            },\n",
        "          });\n",
        "        </script>\n",
        "        '''))\n",
        "  \n",
        "def custom_activation(x, beta = 1):\n",
        "        return (K.sigmoid(beta * x) * x)\n",
        "\n",
        "get_custom_objects().update({'custom_activation': Activation(custom_activation)})\n",
        "\n",
        "from IPython.display import display_html\n",
        "from itertools import chain,cycle\n",
        "def display_side_by_side(*args,titles=cycle([''])):\n",
        "    html_str=''\n",
        "    for df,title in zip(args, chain(titles,cycle(['</br>'])) ):\n",
        "        html_str+='<th style=\"text-align:center\"><td style=\"vertical-align:top\">'\n",
        "        html_str+=f'<h2>{title}</h2>'\n",
        "        html_str+=df.to_html().replace('table','table style=\"display:inline\"')\n",
        "        html_str+='</td></th>'\n",
        "    display_html(html_str,raw=True)\n",
        "\n",
        "from IPython.display import display, HTML\n",
        "\n",
        "css = \"\"\"\n",
        ".output {\n",
        "    flex-direction: row;\n",
        "}\n",
        "\"\"\"\n",
        "\n",
        "HTML('<style>{}</style>'.format(css))\n",
        "  "
      ]
    },
    {
      "cell_type": "code",
      "execution_count": 4,
      "id": "3584e88e",
      "metadata": {
        "id": "3584e88e"
      },
      "outputs": [],
      "source": [
        "dataset = pd.read_csv('/content/drive/MyDrive/wr/wheel1.csv')"
      ]
    },
    {
      "cell_type": "code",
      "execution_count": 5,
      "id": "54aa1d24",
      "metadata": {
        "colab": {
          "base_uri": "https://localhost:8080/",
          "height": 426
        },
        "id": "54aa1d24",
        "outputId": "3900baff-b2f3-4a36-b446-437f4c9ccc64"
      },
      "outputs": [
        {
          "output_type": "execute_result",
          "data": {
            "text/plain": [
              "  logbook_defect_id aircraft_registration  aircraft_type_iata flight_number  \\\n",
              "0      282450-10384              SW-K7380                 380         DA459   \n",
              "1      452427-10019              SW-K7380                 380         DA459   \n",
              "2      456396-55148              SW-F5725                 380         DA458   \n",
              "3      467499-16509              SW-E8944                 320         DA559   \n",
              "4      794341-44907              SW-V6405                 350         DA458   \n",
              "\n",
              "              occurred_time                 skywise_flight_id environment  \\\n",
              "0  2018-08-17T17:20:41.000Z  DA459-2017-10-26 00:12:05.718680       Heavy   \n",
              "1  2017-12-09T19:46:49.000Z  DA459-2017-02-16 23:28:05.718680        Line   \n",
              "2  2018-07-24T22:45:01.000Z  DA458-2017-10-02 01:34:20.754377       Heavy   \n",
              "3  2018-09-20T16:57:00.000Z  DA559-2017-11-29 00:48:59.550316        Line   \n",
              "4  2017-12-04T20:15:16.000Z  DA458-2017-02-12 00:15:08.407564       Heavy   \n",
              "\n",
              "  station component_replaced check_type  vendor_name  \\\n",
              "0     LHR         Main Wheel    Service  Bridgestone   \n",
              "1     LHR         Nose Wheel    Transit     Goodyear   \n",
              "2     EWR         Main Wheel    Service     Michelin   \n",
              "3     MUC         Main Wheel    Layover     Michelin   \n",
              "4     EWR         Nose Wheel    Service       Dunlop   \n",
              "\n",
              "   cycles_since_installation  \\\n",
              "0                         89   \n",
              "1                         40   \n",
              "2                         35   \n",
              "3                         45   \n",
              "4                         85   \n",
              "\n",
              "                                  defect_observation  Unnamed: 13  \n",
              "0         Patches and peeled ribs found on the wheel          NaN  \n",
              "1                        Open tread splice  observed          NaN  \n",
              "2  Patches found and the length of it is beyond l...          NaN  \n",
              "3        Cut marks are on the side walls of the tyre          NaN  \n",
              "4  Patches found and the length of it is beyond l...          NaN  "
            ],
            "text/html": [
              "\n",
              "  <div id=\"df-57ab55ed-bc4f-4748-9498-0e143906d970\">\n",
              "    <div class=\"colab-df-container\">\n",
              "      <div>\n",
              "<style scoped>\n",
              "    .dataframe tbody tr th:only-of-type {\n",
              "        vertical-align: middle;\n",
              "    }\n",
              "\n",
              "    .dataframe tbody tr th {\n",
              "        vertical-align: top;\n",
              "    }\n",
              "\n",
              "    .dataframe thead th {\n",
              "        text-align: right;\n",
              "    }\n",
              "</style>\n",
              "<table border=\"1\" class=\"dataframe\">\n",
              "  <thead>\n",
              "    <tr style=\"text-align: right;\">\n",
              "      <th></th>\n",
              "      <th>logbook_defect_id</th>\n",
              "      <th>aircraft_registration</th>\n",
              "      <th>aircraft_type_iata</th>\n",
              "      <th>flight_number</th>\n",
              "      <th>occurred_time</th>\n",
              "      <th>skywise_flight_id</th>\n",
              "      <th>environment</th>\n",
              "      <th>station</th>\n",
              "      <th>component_replaced</th>\n",
              "      <th>check_type</th>\n",
              "      <th>vendor_name</th>\n",
              "      <th>cycles_since_installation</th>\n",
              "      <th>defect_observation</th>\n",
              "      <th>Unnamed: 13</th>\n",
              "    </tr>\n",
              "  </thead>\n",
              "  <tbody>\n",
              "    <tr>\n",
              "      <th>0</th>\n",
              "      <td>282450-10384</td>\n",
              "      <td>SW-K7380</td>\n",
              "      <td>380</td>\n",
              "      <td>DA459</td>\n",
              "      <td>2018-08-17T17:20:41.000Z</td>\n",
              "      <td>DA459-2017-10-26 00:12:05.718680</td>\n",
              "      <td>Heavy</td>\n",
              "      <td>LHR</td>\n",
              "      <td>Main Wheel</td>\n",
              "      <td>Service</td>\n",
              "      <td>Bridgestone</td>\n",
              "      <td>89</td>\n",
              "      <td>Patches and peeled ribs found on the wheel</td>\n",
              "      <td>NaN</td>\n",
              "    </tr>\n",
              "    <tr>\n",
              "      <th>1</th>\n",
              "      <td>452427-10019</td>\n",
              "      <td>SW-K7380</td>\n",
              "      <td>380</td>\n",
              "      <td>DA459</td>\n",
              "      <td>2017-12-09T19:46:49.000Z</td>\n",
              "      <td>DA459-2017-02-16 23:28:05.718680</td>\n",
              "      <td>Line</td>\n",
              "      <td>LHR</td>\n",
              "      <td>Nose Wheel</td>\n",
              "      <td>Transit</td>\n",
              "      <td>Goodyear</td>\n",
              "      <td>40</td>\n",
              "      <td>Open tread splice  observed</td>\n",
              "      <td>NaN</td>\n",
              "    </tr>\n",
              "    <tr>\n",
              "      <th>2</th>\n",
              "      <td>456396-55148</td>\n",
              "      <td>SW-F5725</td>\n",
              "      <td>380</td>\n",
              "      <td>DA458</td>\n",
              "      <td>2018-07-24T22:45:01.000Z</td>\n",
              "      <td>DA458-2017-10-02 01:34:20.754377</td>\n",
              "      <td>Heavy</td>\n",
              "      <td>EWR</td>\n",
              "      <td>Main Wheel</td>\n",
              "      <td>Service</td>\n",
              "      <td>Michelin</td>\n",
              "      <td>35</td>\n",
              "      <td>Patches found and the length of it is beyond l...</td>\n",
              "      <td>NaN</td>\n",
              "    </tr>\n",
              "    <tr>\n",
              "      <th>3</th>\n",
              "      <td>467499-16509</td>\n",
              "      <td>SW-E8944</td>\n",
              "      <td>320</td>\n",
              "      <td>DA559</td>\n",
              "      <td>2018-09-20T16:57:00.000Z</td>\n",
              "      <td>DA559-2017-11-29 00:48:59.550316</td>\n",
              "      <td>Line</td>\n",
              "      <td>MUC</td>\n",
              "      <td>Main Wheel</td>\n",
              "      <td>Layover</td>\n",
              "      <td>Michelin</td>\n",
              "      <td>45</td>\n",
              "      <td>Cut marks are on the side walls of the tyre</td>\n",
              "      <td>NaN</td>\n",
              "    </tr>\n",
              "    <tr>\n",
              "      <th>4</th>\n",
              "      <td>794341-44907</td>\n",
              "      <td>SW-V6405</td>\n",
              "      <td>350</td>\n",
              "      <td>DA458</td>\n",
              "      <td>2017-12-04T20:15:16.000Z</td>\n",
              "      <td>DA458-2017-02-12 00:15:08.407564</td>\n",
              "      <td>Heavy</td>\n",
              "      <td>EWR</td>\n",
              "      <td>Nose Wheel</td>\n",
              "      <td>Service</td>\n",
              "      <td>Dunlop</td>\n",
              "      <td>85</td>\n",
              "      <td>Patches found and the length of it is beyond l...</td>\n",
              "      <td>NaN</td>\n",
              "    </tr>\n",
              "  </tbody>\n",
              "</table>\n",
              "</div>\n",
              "      <button class=\"colab-df-convert\" onclick=\"convertToInteractive('df-57ab55ed-bc4f-4748-9498-0e143906d970')\"\n",
              "              title=\"Convert this dataframe to an interactive table.\"\n",
              "              style=\"display:none;\">\n",
              "        \n",
              "  <svg xmlns=\"http://www.w3.org/2000/svg\" height=\"24px\"viewBox=\"0 0 24 24\"\n",
              "       width=\"24px\">\n",
              "    <path d=\"M0 0h24v24H0V0z\" fill=\"none\"/>\n",
              "    <path d=\"M18.56 5.44l.94 2.06.94-2.06 2.06-.94-2.06-.94-.94-2.06-.94 2.06-2.06.94zm-11 1L8.5 8.5l.94-2.06 2.06-.94-2.06-.94L8.5 2.5l-.94 2.06-2.06.94zm10 10l.94 2.06.94-2.06 2.06-.94-2.06-.94-.94-2.06-.94 2.06-2.06.94z\"/><path d=\"M17.41 7.96l-1.37-1.37c-.4-.4-.92-.59-1.43-.59-.52 0-1.04.2-1.43.59L10.3 9.45l-7.72 7.72c-.78.78-.78 2.05 0 2.83L4 21.41c.39.39.9.59 1.41.59.51 0 1.02-.2 1.41-.59l7.78-7.78 2.81-2.81c.8-.78.8-2.07 0-2.86zM5.41 20L4 18.59l7.72-7.72 1.47 1.35L5.41 20z\"/>\n",
              "  </svg>\n",
              "      </button>\n",
              "      \n",
              "  <style>\n",
              "    .colab-df-container {\n",
              "      display:flex;\n",
              "      flex-wrap:wrap;\n",
              "      gap: 12px;\n",
              "    }\n",
              "\n",
              "    .colab-df-convert {\n",
              "      background-color: #E8F0FE;\n",
              "      border: none;\n",
              "      border-radius: 50%;\n",
              "      cursor: pointer;\n",
              "      display: none;\n",
              "      fill: #1967D2;\n",
              "      height: 32px;\n",
              "      padding: 0 0 0 0;\n",
              "      width: 32px;\n",
              "    }\n",
              "\n",
              "    .colab-df-convert:hover {\n",
              "      background-color: #E2EBFA;\n",
              "      box-shadow: 0px 1px 2px rgba(60, 64, 67, 0.3), 0px 1px 3px 1px rgba(60, 64, 67, 0.15);\n",
              "      fill: #174EA6;\n",
              "    }\n",
              "\n",
              "    [theme=dark] .colab-df-convert {\n",
              "      background-color: #3B4455;\n",
              "      fill: #D2E3FC;\n",
              "    }\n",
              "\n",
              "    [theme=dark] .colab-df-convert:hover {\n",
              "      background-color: #434B5C;\n",
              "      box-shadow: 0px 1px 3px 1px rgba(0, 0, 0, 0.15);\n",
              "      filter: drop-shadow(0px 1px 2px rgba(0, 0, 0, 0.3));\n",
              "      fill: #FFFFFF;\n",
              "    }\n",
              "  </style>\n",
              "\n",
              "      <script>\n",
              "        const buttonEl =\n",
              "          document.querySelector('#df-57ab55ed-bc4f-4748-9498-0e143906d970 button.colab-df-convert');\n",
              "        buttonEl.style.display =\n",
              "          google.colab.kernel.accessAllowed ? 'block' : 'none';\n",
              "\n",
              "        async function convertToInteractive(key) {\n",
              "          const element = document.querySelector('#df-57ab55ed-bc4f-4748-9498-0e143906d970');\n",
              "          const dataTable =\n",
              "            await google.colab.kernel.invokeFunction('convertToInteractive',\n",
              "                                                     [key], {});\n",
              "          if (!dataTable) return;\n",
              "\n",
              "          const docLinkHtml = 'Like what you see? Visit the ' +\n",
              "            '<a target=\"_blank\" href=https://colab.research.google.com/notebooks/data_table.ipynb>data table notebook</a>'\n",
              "            + ' to learn more about interactive tables.';\n",
              "          element.innerHTML = '';\n",
              "          dataTable['output_type'] = 'display_data';\n",
              "          await google.colab.output.renderOutput(dataTable, element);\n",
              "          const docLink = document.createElement('div');\n",
              "          docLink.innerHTML = docLinkHtml;\n",
              "          element.appendChild(docLink);\n",
              "        }\n",
              "      </script>\n",
              "    </div>\n",
              "  </div>\n",
              "  "
            ]
          },
          "metadata": {},
          "execution_count": 5
        }
      ],
      "source": [
        "dataset.head(5)"
      ]
    },
    {
      "cell_type": "code",
      "execution_count": 6,
      "metadata": {
        "colab": {
          "base_uri": "https://localhost:8080/"
        },
        "outputId": "d463c5ff-06b5-4354-bc52-e4f857ed70a0",
        "id": "8RLQeou1DKdO"
      },
      "outputs": [
        {
          "output_type": "stream",
          "name": "stdout",
          "text": [
            "\n",
            " 0       25\n",
            "1       25\n",
            "2       15\n",
            "3       13\n",
            "4       45\n",
            "        ..\n",
            "2267    21\n",
            "2268    12\n",
            "2269    36\n",
            "2270    33\n",
            "2271     7\n",
            "Name: aircraft_registration, Length: 2272, dtype: int64 \n",
            "\n"
          ]
        }
      ],
      "source": [
        "labelencoder_X = LabelEncoder()\n",
        "dataset['aircraft_registration']= labelencoder_X.fit_transform(dataset['aircraft_registration'])\n",
        "print(\"\\n\",dataset['aircraft_registration'],\"\\n\")"
      ],
      "id": "8RLQeou1DKdO"
    },
    {
      "cell_type": "code",
      "execution_count": 7,
      "metadata": {
        "colab": {
          "base_uri": "https://localhost:8080/"
        },
        "outputId": "dc81cae6-c23a-4bb4-cdf9-0c235473b9d3",
        "id": "tUkbEAbZEPRs"
      },
      "outputs": [
        {
          "output_type": "stream",
          "name": "stdout",
          "text": [
            "\n",
            " 0       2\n",
            "1       2\n",
            "2       2\n",
            "3       0\n",
            "4       1\n",
            "       ..\n",
            "2267    2\n",
            "2268    0\n",
            "2269    2\n",
            "2270    1\n",
            "2271    2\n",
            "Name: aircraft_type_iata, Length: 2272, dtype: int64 \n",
            "\n"
          ]
        }
      ],
      "source": [
        "labelencoder_X = LabelEncoder()\n",
        "dataset['aircraft_type_iata']= labelencoder_X.fit_transform(dataset['aircraft_type_iata'])\n",
        "print(\"\\n\",dataset['aircraft_type_iata'],\"\\n\")"
      ],
      "id": "tUkbEAbZEPRs"
    },
    {
      "cell_type": "code",
      "execution_count": 8,
      "id": "186fc7a1",
      "metadata": {
        "colab": {
          "base_uri": "https://localhost:8080/"
        },
        "id": "186fc7a1",
        "outputId": "4a6c836a-471a-4e41-cf8e-00075c34ce50"
      },
      "outputs": [
        {
          "output_type": "stream",
          "name": "stdout",
          "text": [
            "\n",
            " 0       0\n",
            "1       1\n",
            "2       0\n",
            "3       1\n",
            "4       0\n",
            "       ..\n",
            "2267    1\n",
            "2268    0\n",
            "2269    0\n",
            "2270    0\n",
            "2271    1\n",
            "Name: environment, Length: 2272, dtype: int64 \n",
            "\n"
          ]
        }
      ],
      "source": [
        "labelencoder_X = LabelEncoder()\n",
        "dataset['environment']= labelencoder_X.fit_transform(dataset['environment'])\n",
        "print(\"\\n\",dataset['environment'],\"\\n\")"
      ]
    },
    {
      "cell_type": "code",
      "execution_count": 9,
      "id": "05695a8e",
      "metadata": {
        "colab": {
          "base_uri": "https://localhost:8080/"
        },
        "id": "05695a8e",
        "outputId": "3389f041-9035-4740-faa0-f992b137ef3b"
      },
      "outputs": [
        {
          "output_type": "stream",
          "name": "stdout",
          "text": [
            "\n",
            " 0       0\n",
            "1       1\n",
            "2       0\n",
            "3       0\n",
            "4       1\n",
            "       ..\n",
            "2267    0\n",
            "2268    1\n",
            "2269    1\n",
            "2270    1\n",
            "2271    0\n",
            "Name: component_replaced, Length: 2272, dtype: int64 \n",
            "\n"
          ]
        }
      ],
      "source": [
        "labelencoder_X = LabelEncoder()\n",
        "dataset['component_replaced']= labelencoder_X.fit_transform(dataset['component_replaced'])\n",
        "print(\"\\n\",dataset['component_replaced'],\"\\n\")"
      ]
    },
    {
      "cell_type": "code",
      "execution_count": 10,
      "id": "c5026145",
      "metadata": {
        "colab": {
          "base_uri": "https://localhost:8080/"
        },
        "id": "c5026145",
        "outputId": "a2f25e12-6459-415f-95eb-7d75e38949bc"
      },
      "outputs": [
        {
          "output_type": "stream",
          "name": "stdout",
          "text": [
            "\n",
            " 0       1\n",
            "1       2\n",
            "2       1\n",
            "3       0\n",
            "4       1\n",
            "       ..\n",
            "2267    0\n",
            "2268    1\n",
            "2269    1\n",
            "2270    1\n",
            "2271    0\n",
            "Name: check_type, Length: 2272, dtype: int64 \n",
            "\n"
          ]
        }
      ],
      "source": [
        "labelencoder_X = LabelEncoder()\n",
        "dataset['check_type']= labelencoder_X.fit_transform(dataset['check_type'])\n",
        "print(\"\\n\",dataset['check_type'],\"\\n\")"
      ]
    },
    {
      "cell_type": "code",
      "execution_count": 11,
      "id": "5849f350",
      "metadata": {
        "colab": {
          "base_uri": "https://localhost:8080/"
        },
        "id": "5849f350",
        "outputId": "86af66cf-510a-4f82-a1c8-5409f7b42ba6"
      },
      "outputs": [
        {
          "output_type": "stream",
          "name": "stdout",
          "text": [
            "\n",
            " 0       0\n",
            "1       2\n",
            "2       3\n",
            "3       3\n",
            "4       1\n",
            "       ..\n",
            "2267    0\n",
            "2268    2\n",
            "2269    2\n",
            "2270    0\n",
            "2271    3\n",
            "Name: vendor_name, Length: 2272, dtype: int64 \n",
            "\n"
          ]
        }
      ],
      "source": [
        "labelencoder_X = LabelEncoder()\n",
        "dataset['vendor_name']= labelencoder_X.fit_transform(dataset['vendor_name'])\n",
        "print(\"\\n\",dataset['vendor_name'],\"\\n\")"
      ]
    },
    {
      "cell_type": "code",
      "execution_count": 12,
      "id": "87b4bb25",
      "metadata": {
        "colab": {
          "base_uri": "https://localhost:8080/"
        },
        "id": "87b4bb25",
        "outputId": "80845670-da85-40ec-eef2-7b3588142bcc"
      },
      "outputs": [
        {
          "output_type": "stream",
          "name": "stdout",
          "text": [
            "\n",
            " 0       2\n",
            "1       1\n",
            "2       3\n",
            "3       0\n",
            "4       3\n",
            "       ..\n",
            "2267    5\n",
            "2268    3\n",
            "2269    2\n",
            "2270    5\n",
            "2271    2\n",
            "Name: defect_observation, Length: 2272, dtype: int64 \n",
            "\n"
          ]
        }
      ],
      "source": [
        "labelencoder_X = LabelEncoder()\n",
        "dataset['defect_observation']= labelencoder_X.fit_transform(dataset['defect_observation'])\n",
        "print(\"\\n\",dataset['defect_observation'],\"\\n\")"
      ]
    },
    {
      "cell_type": "code",
      "execution_count": 13,
      "id": "68393fb6",
      "metadata": {
        "id": "68393fb6"
      },
      "outputs": [],
      "source": [
        "#Normalization\n",
        "scaler = MinMaxScaler(feature_range = (0, 1))\n",
        "data1 = dataset.cycles_since_installation.values.reshape(-1, 1)\n",
        "scaled_data = scaler.fit_transform(data1)"
      ]
    },
    {
      "cell_type": "code",
      "execution_count": 14,
      "id": "02d18e32",
      "metadata": {
        "colab": {
          "base_uri": "https://localhost:8080/"
        },
        "id": "02d18e32",
        "outputId": "768ff419-ada6-4d7c-83ac-3b45f3b50d61"
      },
      "outputs": [
        {
          "output_type": "execute_result",
          "data": {
            "text/plain": [
              "(2272, 1)"
            ]
          },
          "metadata": {},
          "execution_count": 14
        }
      ],
      "source": [
        "scaled_data.shape"
      ]
    },
    {
      "cell_type": "code",
      "execution_count": 15,
      "id": "0ae1b3e9",
      "metadata": {
        "colab": {
          "base_uri": "https://localhost:8080/"
        },
        "id": "0ae1b3e9",
        "outputId": "e8e87490-81f0-4472-861b-a90e6e72bb67"
      },
      "outputs": [
        {
          "output_type": "execute_result",
          "data": {
            "text/plain": [
              "False"
            ]
          },
          "metadata": {},
          "execution_count": 15
        }
      ],
      "source": [
        "#Checking for missing values\n",
        "np.isnan(scaled_data).any()"
      ]
    },
    {
      "cell_type": "code",
      "execution_count": 16,
      "id": "29110030",
      "metadata": {
        "id": "29110030"
      },
      "outputs": [],
      "source": [
        "SEQ_LEN = 100\n",
        "\n",
        "def to_sequences(data, seq_len):\n",
        "    d = []\n",
        "\n",
        "    for index in range(len(data) - seq_len):\n",
        "        d.append(data[index: index + seq_len])\n",
        "\n",
        "    return np.array(d)\n",
        "\n",
        "def preprocess(data_raw, seq_len, train_split):\n",
        "\n",
        "    data = to_sequences(data_raw, seq_len)\n",
        "\n",
        "    num_train = int(train_split * data.shape[0])\n",
        "\n",
        "    X_train = data[:num_train, :-1, :]\n",
        "    y_train = data[:num_train, -1, :]\n",
        "\n",
        "    X_test = data[num_train:, :-1, :]\n",
        "    y_test = data[num_train:, -1, :]\n",
        "\n",
        "    return X_train, y_train, X_test, y_test\n",
        "\n",
        "\n",
        "X_train, y_train, X_test, y_test = preprocess(scaled_data, SEQ_LEN, train_split = 0.80)"
      ]
    },
    {
      "cell_type": "code",
      "execution_count": 17,
      "id": "b510bb4e",
      "metadata": {
        "colab": {
          "base_uri": "https://localhost:8080/"
        },
        "id": "b510bb4e",
        "outputId": "9eeb289a-d2e4-4a67-fa7b-c2c119fc988a"
      },
      "outputs": [
        {
          "output_type": "execute_result",
          "data": {
            "text/plain": [
              "(1737, 99, 1)"
            ]
          },
          "metadata": {},
          "execution_count": 17
        }
      ],
      "source": [
        "X_train.shape"
      ]
    },
    {
      "cell_type": "code",
      "execution_count": 18,
      "id": "37a4cff7",
      "metadata": {
        "colab": {
          "base_uri": "https://localhost:8080/"
        },
        "id": "37a4cff7",
        "outputId": "29471f48-8d35-4846-dc3c-eba15302b52b"
      },
      "outputs": [
        {
          "output_type": "execute_result",
          "data": {
            "text/plain": [
              "(435, 99, 1)"
            ]
          },
          "metadata": {},
          "execution_count": 18
        }
      ],
      "source": [
        "X_test.shape"
      ]
    },
    {
      "cell_type": "markdown",
      "source": [
        "## **Adam Optimizer and ReLU activation function**"
      ],
      "metadata": {
        "id": "DIA3sISOg7hu"
      },
      "id": "DIA3sISOg7hu"
    },
    {
      "cell_type": "code",
      "execution_count": 19,
      "id": "f1786a42",
      "metadata": {
        "id": "f1786a42"
      },
      "outputs": [],
      "source": [
        "np.random.seed(42)\n",
        "window_len = 5\n",
        "zero_base = True\n",
        "dropout = 0.2\n",
        "output_size=1\n",
        "\n",
        "DROPOUT = 0.2\n",
        "WINDOW_SIZE = SEQ_LEN - 1\n",
        "model = Sequential()\n",
        "model.add(Convolution1D(64, 3, padding=\"same\", input_shape = (X_train.shape[1], 1)))\n",
        "model.add(Convolution1D(128, 3, padding=\"same\", input_shape = (X_train.shape[1], 1)))\n",
        "model.add(MaxPooling1D(pool_size=(4)))\n",
        "model.add(LSTM(100, activation=\"relu\", input_shape=(X_train.shape[1], X_train.shape[2]),))\n",
        "model.add(Dense(units=output_size))\n",
        "model.compile(loss='mse', optimizer='adam')"
      ]
    },
    {
      "cell_type": "code",
      "execution_count": 20,
      "id": "abd44cf0",
      "metadata": {
        "colab": {
          "base_uri": "https://localhost:8080/"
        },
        "id": "abd44cf0",
        "outputId": "76aa70e3-0a53-4f10-f68f-448a66a8887c"
      },
      "outputs": [
        {
          "output_type": "stream",
          "name": "stdout",
          "text": [
            "Epoch 1/20\n",
            "22/22 [==============================] - 4s 104ms/step - loss: 0.1138 - val_loss: 0.0890\n",
            "Epoch 2/20\n",
            "22/22 [==============================] - 2s 89ms/step - loss: 0.0920 - val_loss: 0.0880\n",
            "Epoch 3/20\n",
            "22/22 [==============================] - 2s 87ms/step - loss: 0.0913 - val_loss: 0.0876\n",
            "Epoch 4/20\n",
            "22/22 [==============================] - 2s 87ms/step - loss: 0.0910 - val_loss: 0.0876\n",
            "Epoch 5/20\n",
            "22/22 [==============================] - 2s 85ms/step - loss: 0.0909 - val_loss: 0.0875\n",
            "Epoch 6/20\n",
            "22/22 [==============================] - 2s 86ms/step - loss: 0.0908 - val_loss: 0.0874\n",
            "Epoch 7/20\n",
            "22/22 [==============================] - 2s 90ms/step - loss: 0.0907 - val_loss: 0.0873\n",
            "Epoch 8/20\n",
            "22/22 [==============================] - 2s 88ms/step - loss: 0.0907 - val_loss: 0.0872\n",
            "Epoch 9/20\n",
            "22/22 [==============================] - 3s 126ms/step - loss: 0.0907 - val_loss: 0.0869\n",
            "Epoch 10/20\n",
            "22/22 [==============================] - 4s 171ms/step - loss: 0.0906 - val_loss: 0.0868\n",
            "Epoch 11/20\n",
            "22/22 [==============================] - 4s 171ms/step - loss: 0.0904 - val_loss: 0.0867\n",
            "Epoch 12/20\n",
            "22/22 [==============================] - 4s 182ms/step - loss: 0.0904 - val_loss: 0.0866\n",
            "Epoch 13/20\n",
            "22/22 [==============================] - 4s 168ms/step - loss: 0.0903 - val_loss: 0.0866\n",
            "Epoch 14/20\n",
            "22/22 [==============================] - 3s 138ms/step - loss: 0.0901 - val_loss: 0.0866\n",
            "Epoch 15/20\n",
            "22/22 [==============================] - 2s 85ms/step - loss: 0.0900 - val_loss: 0.0865\n",
            "Epoch 16/20\n",
            "22/22 [==============================] - 2s 85ms/step - loss: 0.0899 - val_loss: 0.0863\n",
            "Epoch 17/20\n",
            "22/22 [==============================] - 2s 85ms/step - loss: 0.0897 - val_loss: 0.0862\n",
            "Epoch 18/20\n",
            "22/22 [==============================] - 2s 85ms/step - loss: 0.0894 - val_loss: 0.0861\n",
            "Epoch 19/20\n",
            "22/22 [==============================] - 2s 85ms/step - loss: 0.0895 - val_loss: 0.0860\n",
            "Epoch 20/20\n",
            "22/22 [==============================] - 2s 86ms/step - loss: 0.0893 - val_loss: 0.0860\n"
          ]
        }
      ],
      "source": [
        "history = model.fit(X_train, y_train, epochs=20, batch_size=64, shuffle=False, validation_split=0.20)"
      ]
    },
    {
      "cell_type": "markdown",
      "source": [
        "**MSE**"
      ],
      "metadata": {
        "id": "7lMbOWvIj3Y6"
      },
      "id": "7lMbOWvIj3Y6"
    },
    {
      "cell_type": "code",
      "execution_count": 21,
      "id": "d0ee4fef",
      "metadata": {
        "id": "d0ee4fef",
        "colab": {
          "base_uri": "https://localhost:8080/"
        },
        "outputId": "427ec436-f2c3-439d-cf3d-72cadabbb922"
      },
      "outputs": [
        {
          "output_type": "stream",
          "name": "stdout",
          "text": [
            "14/14 [==============================] - 0s 17ms/step\n",
            "14/14 [==============================] - 0s 15ms/step - loss: 0.0912\n"
          ]
        },
        {
          "output_type": "execute_result",
          "data": {
            "text/plain": [
              "0.09115797281265259"
            ]
          },
          "metadata": {},
          "execution_count": 21
        }
      ],
      "source": [
        "predicteddata = model.predict(X_test)\n",
        "model.evaluate(X_test, y_test)"
      ]
    },
    {
      "cell_type": "markdown",
      "source": [
        "**RMSE**"
      ],
      "metadata": {
        "id": "ayNib0xYj8uq"
      },
      "id": "ayNib0xYj8uq"
    },
    {
      "cell_type": "code",
      "execution_count": 22,
      "id": "1291fbe6",
      "metadata": {
        "colab": {
          "base_uri": "https://localhost:8080/"
        },
        "id": "1291fbe6",
        "outputId": "bfd75415-7457-49b9-fb93-9b68a893cd67"
      },
      "outputs": [
        {
          "output_type": "stream",
          "name": "stdout",
          "text": [
            "Test set: Root Squared Mean Error 0.3019237952942374\n"
          ]
        }
      ],
      "source": [
        "mse = mean_squared_error(y_test, predicteddata)\n",
        "print('Test set: Root Squared Mean Error', np.sqrt(mse))\n",
        "#print(f\"r2 Score Of Test Set : {r2_score(y_test, predicteddata)}\")"
      ]
    },
    {
      "cell_type": "code",
      "source": [
        "configure_plotly_browser_state()\n",
        "plt.figure(figsize=(16,8))\n",
        "plt.title('Adam and ReLU')\n",
        "plt.plot(history.history['loss'], label='Train loss')\n",
        "plt.plot(history.history['val_loss'], label='Validation loss')\n",
        "plt.xlabel('Epochs', fontsize=18)\n",
        "plt.ylabel('MSE', fontsize=18)\n",
        "plt.show()"
      ],
      "metadata": {
        "colab": {
          "base_uri": "https://localhost:8080/",
          "height": 521
        },
        "outputId": "3e4d1af0-a8d2-4394-f7fc-5f7075bfbc8e",
        "id": "JiKw-J3KhRIE"
      },
      "execution_count": 23,
      "outputs": [
        {
          "output_type": "display_data",
          "data": {
            "text/plain": [
              "<IPython.core.display.HTML object>"
            ],
            "text/html": [
              "\n",
              "        <script src=\"/static/components/requirejs/require.js\"></script>\n",
              "        <script>\n",
              "          requirejs.config({\n",
              "            paths: {\n",
              "              base: '/static/base',\n",
              "              plotly: 'https://cdn.plot.ly/plotly-latest.min.js?noext',\n",
              "            },\n",
              "          });\n",
              "        </script>\n",
              "        "
            ]
          },
          "metadata": {}
        },
        {
          "output_type": "display_data",
          "data": {
            "text/plain": [
              "<Figure size 1152x576 with 1 Axes>"
            ],
            "image/png": "[encoded data removed]"
          },
          "metadata": {
            "needs_background": "light"
          }
        }
      ],
      "id": "JiKw-J3KhRIE"
    },
    {
      "cell_type": "markdown",
      "source": [
        "## **Adam Optimizer and Swish activation Function**"
      ],
      "metadata": {
        "id": "sMmmUqerjJKy"
      },
      "id": "sMmmUqerjJKy"
    },
    {
      "cell_type": "code",
      "source": [
        "model = Sequential()\n",
        "model.add(Convolution1D(64, 3, padding=\"same\",input_shape = (X_train.shape[1], 1)))\n",
        "model.add(Convolution1D(128, 3, padding=\"same\",input_shape = (X_train.shape[1], 1)))\n",
        "model.add(MaxPooling1D(pool_size=(4)))\n",
        "model.add(LSTM(100, Activation(custom_activation,name = \"Swish\"), input_shape=(X_train.shape[1], X_train.shape[2]),))\n",
        "model.add(Dense(units=output_size))\n",
        "model.compile(loss='mse', optimizer='adam')"
      ],
      "metadata": {
        "id": "7O4JkFuDjcXr"
      },
      "execution_count": 24,
      "outputs": [],
      "id": "7O4JkFuDjcXr"
    },
    {
      "cell_type": "code",
      "execution_count": 25,
      "metadata": {
        "colab": {
          "base_uri": "https://localhost:8080/"
        },
        "outputId": "7e3a7c0b-39b2-4e3e-a302-ebe6d5de0aef",
        "id": "R-U5NlPyjgAI"
      },
      "outputs": [
        {
          "output_type": "stream",
          "name": "stdout",
          "text": [
            "Epoch 1/20\n",
            "22/22 [==============================] - 4s 105ms/step - loss: 0.1305 - val_loss: 0.0887\n",
            "Epoch 2/20\n",
            "22/22 [==============================] - 2s 87ms/step - loss: 0.0927 - val_loss: 0.0880\n",
            "Epoch 3/20\n",
            "22/22 [==============================] - 2s 89ms/step - loss: 0.0914 - val_loss: 0.0881\n",
            "Epoch 4/20\n",
            "22/22 [==============================] - 2s 90ms/step - loss: 0.0911 - val_loss: 0.0880\n",
            "Epoch 5/20\n",
            "22/22 [==============================] - 2s 89ms/step - loss: 0.0910 - val_loss: 0.0878\n",
            "Epoch 6/20\n",
            "22/22 [==============================] - 2s 90ms/step - loss: 0.0908 - val_loss: 0.0877\n",
            "Epoch 7/20\n",
            "22/22 [==============================] - 2s 90ms/step - loss: 0.0907 - val_loss: 0.0877\n",
            "Epoch 8/20\n",
            "22/22 [==============================] - 2s 90ms/step - loss: 0.0906 - val_loss: 0.0876\n",
            "Epoch 9/20\n",
            "22/22 [==============================] - 2s 90ms/step - loss: 0.0905 - val_loss: 0.0876\n",
            "Epoch 10/20\n",
            "22/22 [==============================] - 2s 90ms/step - loss: 0.0905 - val_loss: 0.0876\n",
            "Epoch 11/20\n",
            "22/22 [==============================] - 2s 90ms/step - loss: 0.0904 - val_loss: 0.0876\n",
            "Epoch 12/20\n",
            "22/22 [==============================] - 2s 90ms/step - loss: 0.0903 - val_loss: 0.0876\n",
            "Epoch 13/20\n",
            "22/22 [==============================] - 2s 89ms/step - loss: 0.0903 - val_loss: 0.0875\n",
            "Epoch 14/20\n",
            "22/22 [==============================] - 2s 101ms/step - loss: 0.0902 - val_loss: 0.0875\n",
            "Epoch 15/20\n",
            "22/22 [==============================] - 5s 213ms/step - loss: 0.0902 - val_loss: 0.0875\n",
            "Epoch 16/20\n",
            "22/22 [==============================] - 2s 91ms/step - loss: 0.0901 - val_loss: 0.0875\n",
            "Epoch 17/20\n",
            "22/22 [==============================] - 2s 89ms/step - loss: 0.0900 - val_loss: 0.0875\n",
            "Epoch 18/20\n",
            "22/22 [==============================] - 2s 90ms/step - loss: 0.0899 - val_loss: 0.0874\n",
            "Epoch 19/20\n",
            "22/22 [==============================] - 2s 89ms/step - loss: 0.0899 - val_loss: 0.0874\n",
            "Epoch 20/20\n",
            "22/22 [==============================] - 2s 91ms/step - loss: 0.0898 - val_loss: 0.0874\n"
          ]
        }
      ],
      "source": [
        "history = model.fit(X_train, y_train, epochs=20, batch_size=64, shuffle=False, validation_split=0.20)"
      ],
      "id": "R-U5NlPyjgAI"
    },
    {
      "cell_type": "markdown",
      "source": [
        "**MSE**"
      ],
      "metadata": {
        "id": "GXd52w8DkCxb"
      },
      "id": "GXd52w8DkCxb"
    },
    {
      "cell_type": "code",
      "execution_count": 26,
      "metadata": {
        "colab": {
          "base_uri": "https://localhost:8080/"
        },
        "outputId": "97211b81-c5b2-4acc-de0f-8d910815f067",
        "id": "Ryop0KO_jjrQ"
      },
      "outputs": [
        {
          "output_type": "stream",
          "name": "stdout",
          "text": [
            "14/14 [==============================] - 0s 14ms/step\n",
            "14/14 [==============================] - 0s 16ms/step - loss: 0.0922\n"
          ]
        },
        {
          "output_type": "execute_result",
          "data": {
            "text/plain": [
              "0.09220157563686371"
            ]
          },
          "metadata": {},
          "execution_count": 26
        }
      ],
      "source": [
        "predicteddata = model.predict(X_test)\n",
        "model.evaluate(X_test, y_test)"
      ],
      "id": "Ryop0KO_jjrQ"
    },
    {
      "cell_type": "markdown",
      "source": [
        "**RMSE**"
      ],
      "metadata": {
        "id": "HXw-cHD5kEG1"
      },
      "id": "HXw-cHD5kEG1"
    },
    {
      "cell_type": "code",
      "execution_count": 27,
      "metadata": {
        "colab": {
          "base_uri": "https://localhost:8080/"
        },
        "outputId": "b943f1f9-da6e-4303-daa2-3132d6aa2b1b",
        "id": "zq6UTSpUjmnF"
      },
      "outputs": [
        {
          "output_type": "stream",
          "name": "stdout",
          "text": [
            "Test set: Root Squared Mean Error 0.3036471187632952\n"
          ]
        }
      ],
      "source": [
        "mse = mean_squared_error(y_test, predicteddata)\n",
        "print('Test set: Root Squared Mean Error', np.sqrt(mse))"
      ],
      "id": "zq6UTSpUjmnF"
    },
    {
      "cell_type": "code",
      "source": [
        "configure_plotly_browser_state()\n",
        "plt.figure(figsize=(16,8))\n",
        "plt.title('Adam and Swish')\n",
        "plt.plot(history.history['loss'], label='Train loss')\n",
        "plt.plot(history.history['val_loss'], label='Validation loss')\n",
        "plt.xlabel('Epochs', fontsize=18)\n",
        "plt.ylabel('MSE', fontsize=18)\n",
        "plt.show()"
      ],
      "metadata": {
        "colab": {
          "base_uri": "https://localhost:8080/",
          "height": 521
        },
        "outputId": "01de6d51-0163-4f3a-b251-52428e269a9e",
        "id": "ZCMbS-u9jtSk"
      },
      "execution_count": 28,
      "outputs": [
        {
          "output_type": "display_data",
          "data": {
            "text/plain": [
              "<IPython.core.display.HTML object>"
            ],
            "text/html": [
              "\n",
              "        <script src=\"/static/components/requirejs/require.js\"></script>\n",
              "        <script>\n",
              "          requirejs.config({\n",
              "            paths: {\n",
              "              base: '/static/base',\n",
              "              plotly: 'https://cdn.plot.ly/plotly-latest.min.js?noext',\n",
              "            },\n",
              "          });\n",
              "        </script>\n",
              "        "
            ]
          },
          "metadata": {}
        },
        {
          "output_type": "display_data",
          "data": {
            "text/plain": [
              "<Figure size 1152x576 with 1 Axes>"
            ],
            "image/png": "[encoded data removed]"
          },
          "metadata": {
            "needs_background": "light"
          }
        }
      ],
      "id": "ZCMbS-u9jtSk"
    },
    {
      "cell_type": "markdown",
      "source": [
        "## **Nadam optimizer and ReLU activation function**"
      ],
      "metadata": {
        "id": "NpDPTWqjih2F"
      },
      "id": "NpDPTWqjih2F"
    },
    {
      "cell_type": "code",
      "source": [
        "model = Sequential()\n",
        "model.add(Convolution1D(64, 3, padding=\"same\", input_shape = (X_train.shape[1], 1)))\n",
        "model.add(Convolution1D(128, 3, padding=\"same\", input_shape = (X_train.shape[1], 1)))\n",
        "model.add(MaxPooling1D(pool_size=(4)))\n",
        "model.add(LSTM(100,activation=\"relu\", input_shape=(X_train.shape[1], X_train.shape[2]),))\n",
        "model.add(Dense(units=output_size))\n",
        "model.compile(loss='mse', optimizer='nadam')"
      ],
      "metadata": {
        "id": "Nz32tzgZiq-o"
      },
      "id": "Nz32tzgZiq-o",
      "execution_count": 29,
      "outputs": []
    },
    {
      "cell_type": "code",
      "execution_count": 30,
      "metadata": {
        "colab": {
          "base_uri": "https://localhost:8080/"
        },
        "outputId": "82075417-2309-4d31-8d00-8707f9a6a898",
        "id": "AS5RJH-rivkt"
      },
      "outputs": [
        {
          "output_type": "stream",
          "name": "stdout",
          "text": [
            "Epoch 1/20\n",
            "22/22 [==============================] - 5s 102ms/step - loss: 0.1157 - val_loss: 0.0877\n",
            "Epoch 2/20\n",
            "22/22 [==============================] - 3s 122ms/step - loss: 0.0928 - val_loss: 0.0876\n",
            "Epoch 3/20\n",
            "22/22 [==============================] - 2s 87ms/step - loss: 0.0925 - val_loss: 0.0875\n",
            "Epoch 4/20\n",
            "22/22 [==============================] - 2s 86ms/step - loss: 0.0922 - val_loss: 0.0875\n",
            "Epoch 5/20\n",
            "22/22 [==============================] - 2s 87ms/step - loss: 0.0920 - val_loss: 0.0875\n",
            "Epoch 6/20\n",
            "22/22 [==============================] - 2s 87ms/step - loss: 0.0918 - val_loss: 0.0876\n",
            "Epoch 7/20\n",
            "22/22 [==============================] - 2s 89ms/step - loss: 0.0917 - val_loss: 0.0876\n",
            "Epoch 8/20\n",
            "22/22 [==============================] - 2s 88ms/step - loss: 0.0915 - val_loss: 0.0876\n",
            "Epoch 9/20\n",
            "22/22 [==============================] - 2s 91ms/step - loss: 0.0914 - val_loss: 0.0877\n",
            "Epoch 10/20\n",
            "22/22 [==============================] - 2s 92ms/step - loss: 0.0913 - val_loss: 0.0877\n",
            "Epoch 11/20\n",
            "22/22 [==============================] - 2s 88ms/step - loss: 0.0912 - val_loss: 0.0877\n",
            "Epoch 12/20\n",
            "22/22 [==============================] - 2s 90ms/step - loss: 0.0910 - val_loss: 0.0877\n",
            "Epoch 13/20\n",
            "22/22 [==============================] - 2s 91ms/step - loss: 0.0910 - val_loss: 0.0876\n",
            "Epoch 14/20\n",
            "22/22 [==============================] - 2s 88ms/step - loss: 0.0908 - val_loss: 0.0876\n",
            "Epoch 15/20\n",
            "22/22 [==============================] - 2s 89ms/step - loss: 0.0907 - val_loss: 0.0875\n",
            "Epoch 16/20\n",
            "22/22 [==============================] - 2s 87ms/step - loss: 0.0906 - val_loss: 0.0875\n",
            "Epoch 17/20\n",
            "22/22 [==============================] - 2s 87ms/step - loss: 0.0905 - val_loss: 0.0873\n",
            "Epoch 18/20\n",
            "22/22 [==============================] - 2s 86ms/step - loss: 0.0903 - val_loss: 0.0872\n",
            "Epoch 19/20\n",
            "22/22 [==============================] - 2s 88ms/step - loss: 0.0904 - val_loss: 0.0872\n",
            "Epoch 20/20\n",
            "22/22 [==============================] - 2s 85ms/step - loss: 0.0899 - val_loss: 0.0871\n"
          ]
        }
      ],
      "source": [
        "history = model.fit(X_train, y_train, epochs=20, batch_size=64, shuffle=False, validation_split=0.20)"
      ],
      "id": "AS5RJH-rivkt"
    },
    {
      "cell_type": "markdown",
      "source": [
        "**MSE**"
      ],
      "metadata": {
        "id": "F6swm2ZdkJ-R"
      },
      "id": "F6swm2ZdkJ-R"
    },
    {
      "cell_type": "code",
      "execution_count": 31,
      "metadata": {
        "colab": {
          "base_uri": "https://localhost:8080/"
        },
        "outputId": "d5e17f68-aa68-4a52-9a1f-cbd21ce719c9",
        "id": "8qqDr2nfiydr"
      },
      "outputs": [
        {
          "output_type": "stream",
          "name": "stdout",
          "text": [
            "14/14 [==============================] - 0s 15ms/step\n",
            "14/14 [==============================] - 0s 18ms/step - loss: 0.0936\n"
          ]
        },
        {
          "output_type": "execute_result",
          "data": {
            "text/plain": [
              "0.09362345933914185"
            ]
          },
          "metadata": {},
          "execution_count": 31
        }
      ],
      "source": [
        "predicteddata = model.predict(X_test)\n",
        "model.evaluate(X_test, y_test)"
      ],
      "id": "8qqDr2nfiydr"
    },
    {
      "cell_type": "markdown",
      "source": [
        "**RMSE**"
      ],
      "metadata": {
        "id": "D9rJHr21kLWJ"
      },
      "id": "D9rJHr21kLWJ"
    },
    {
      "cell_type": "code",
      "execution_count": 32,
      "metadata": {
        "colab": {
          "base_uri": "https://localhost:8080/"
        },
        "outputId": "264ffbe7-d47d-4d9e-ea6b-6815b9e72f07",
        "id": "tebFcmOBi2ay"
      },
      "outputs": [
        {
          "output_type": "stream",
          "name": "stdout",
          "text": [
            "Test set: Root Squared Mean Error 0.305979507363029\n"
          ]
        }
      ],
      "source": [
        "mse = mean_squared_error(y_test, predicteddata)\n",
        "print('Test set: Root Squared Mean Error', np.sqrt(mse))"
      ],
      "id": "tebFcmOBi2ay"
    },
    {
      "cell_type": "code",
      "source": [
        "configure_plotly_browser_state()\n",
        "plt.figure(figsize=(16,8))\n",
        "plt.title('Nadam and ReLU')\n",
        "plt.plot(history.history['loss'], label='Train loss')\n",
        "plt.plot(history.history['val_loss'], label='Validation loss')\n",
        "plt.xlabel('Epochs', fontsize=18)\n",
        "plt.ylabel('MSE', fontsize=18)\n",
        "plt.show()"
      ],
      "metadata": {
        "colab": {
          "base_uri": "https://localhost:8080/",
          "height": 521
        },
        "outputId": "695509b3-b992-41b5-be2c-8956fc20c464",
        "id": "JNdBEZ9bi9Wq"
      },
      "execution_count": 33,
      "outputs": [
        {
          "output_type": "display_data",
          "data": {
            "text/plain": [
              "<IPython.core.display.HTML object>"
            ],
            "text/html": [
              "\n",
              "        <script src=\"/static/components/requirejs/require.js\"></script>\n",
              "        <script>\n",
              "          requirejs.config({\n",
              "            paths: {\n",
              "              base: '/static/base',\n",
              "              plotly: 'https://cdn.plot.ly/plotly-latest.min.js?noext',\n",
              "            },\n",
              "          });\n",
              "        </script>\n",
              "        "
            ]
          },
          "metadata": {}
        },
        {
          "output_type": "display_data",
          "data": {
            "text/plain": [
              "<Figure size 1152x576 with 1 Axes>"
            ],
            "image/png": "[encoded data removed]"
          },
          "metadata": {
            "needs_background": "light"
          }
        }
      ],
      "id": "JNdBEZ9bi9Wq"
    },
    {
      "cell_type": "code",
      "source": [
        "clvp=pd.DataFrame(predicteddata)\n",
        "yv=pd.DataFrame(y_test)\n",
        "display_side_by_side(yv.head(9)*100,clvp.head(9)*100, titles=['Actual','Predicted'])"
      ],
      "metadata": {
        "colab": {
          "base_uri": "https://localhost:8080/",
          "height": 740
        },
        "id": "1ip2Pkqz7J7h",
        "outputId": "37beb09b-c3df-40b6-cd7c-7a023139dac5"
      },
      "id": "1ip2Pkqz7J7h",
      "execution_count": 34,
      "outputs": [
        {
          "output_type": "display_data",
          "data": {
            "text/html": [
              "<th style=\"text-align:center\"><td style=\"vertical-align:top\"><h2>Actual</h2><table style=\"display:inline\" border=\"1\" class=\"dataframe\">\n",
              "  <thead>\n",
              "    <tr style=\"text-align: right;\">\n",
              "      <th></th>\n",
              "      <th>0</th>\n",
              "    </tr>\n",
              "  </thead>\n",
              "  <tbody>\n",
              "    <tr>\n",
              "      <th>0</th>\n",
              "      <td>86.666667</td>\n",
              "    </tr>\n",
              "    <tr>\n",
              "      <th>1</th>\n",
              "      <td>53.333333</td>\n",
              "    </tr>\n",
              "    <tr>\n",
              "      <th>2</th>\n",
              "      <td>48.333333</td>\n",
              "    </tr>\n",
              "    <tr>\n",
              "      <th>3</th>\n",
              "      <td>95.000000</td>\n",
              "    </tr>\n",
              "    <tr>\n",
              "      <th>4</th>\n",
              "      <td>1.666667</td>\n",
              "    </tr>\n",
              "    <tr>\n",
              "      <th>5</th>\n",
              "      <td>60.000000</td>\n",
              "    </tr>\n",
              "    <tr>\n",
              "      <th>6</th>\n",
              "      <td>46.666667</td>\n",
              "    </tr>\n",
              "    <tr>\n",
              "      <th>7</th>\n",
              "      <td>26.666667</td>\n",
              "    </tr>\n",
              "    <tr>\n",
              "      <th>8</th>\n",
              "      <td>40.000000</td>\n",
              "    </tr>\n",
              "  </tbody>\n",
              "</table style=\"display:inline\"></td></th><th style=\"text-align:center\"><td style=\"vertical-align:top\"><h2>Predicted</h2><table style=\"display:inline\" border=\"1\" class=\"dataframe\">\n",
              "  <thead>\n",
              "    <tr style=\"text-align: right;\">\n",
              "      <th></th>\n",
              "      <th>0</th>\n",
              "    </tr>\n",
              "  </thead>\n",
              "  <tbody>\n",
              "    <tr>\n",
              "      <th>0</th>\n",
              "      <td>47.588123</td>\n",
              "    </tr>\n",
              "    <tr>\n",
              "      <th>1</th>\n",
              "      <td>45.244095</td>\n",
              "    </tr>\n",
              "    <tr>\n",
              "      <th>2</th>\n",
              "      <td>45.942341</td>\n",
              "    </tr>\n",
              "    <tr>\n",
              "      <th>3</th>\n",
              "      <td>47.141468</td>\n",
              "    </tr>\n",
              "    <tr>\n",
              "      <th>4</th>\n",
              "      <td>45.417316</td>\n",
              "    </tr>\n",
              "    <tr>\n",
              "      <th>5</th>\n",
              "      <td>49.610023</td>\n",
              "    </tr>\n",
              "    <tr>\n",
              "      <th>6</th>\n",
              "      <td>46.064671</td>\n",
              "    </tr>\n",
              "    <tr>\n",
              "      <th>7</th>\n",
              "      <td>44.630512</td>\n",
              "    </tr>\n",
              "    <tr>\n",
              "      <th>8</th>\n",
              "      <td>42.790749</td>\n",
              "    </tr>\n",
              "  </tbody>\n",
              "</table style=\"display:inline\"></td></th>"
            ]
          },
          "metadata": {}
        }
      ]
    },
    {
      "cell_type": "markdown",
      "source": [
        "## **NADAM Optimizer and SWISH Activation function**"
      ],
      "metadata": {
        "id": "63nm5Siagbhg"
      },
      "id": "63nm5Siagbhg"
    },
    {
      "cell_type": "code",
      "source": [
        "model = Sequential()\n",
        "model.add(Convolution1D(64, 3, padding=\"same\",input_shape = (X_train.shape[1], 1)))\n",
        "model.add(Convolution1D(128, 3, padding=\"same\",input_shape = (X_train.shape[1], 1)))\n",
        "model.add(MaxPooling1D(pool_size=(4)))\n",
        "model.add(LSTM(100, Activation(custom_activation,name = \"Swish\"), input_shape=(X_train.shape[1], X_train.shape[2]),))\n",
        "model.add(Dense(units=output_size))\n",
        "model.compile(loss='mse', optimizer='nadam')"
      ],
      "metadata": {
        "id": "_lDvsG3pgXZd"
      },
      "id": "_lDvsG3pgXZd",
      "execution_count": 35,
      "outputs": []
    },
    {
      "cell_type": "code",
      "execution_count": 36,
      "metadata": {
        "colab": {
          "base_uri": "https://localhost:8080/"
        },
        "outputId": "9602f11b-a00a-4b25-b758-a2e1bcb65395",
        "id": "ZompHQmvkTOy"
      },
      "outputs": [
        {
          "output_type": "stream",
          "name": "stdout",
          "text": [
            "Epoch 1/20\n",
            "22/22 [==============================] - 5s 107ms/step - loss: 0.1358 - val_loss: 0.0886\n",
            "Epoch 2/20\n",
            "22/22 [==============================] - 2s 93ms/step - loss: 0.0924 - val_loss: 0.0879\n",
            "Epoch 3/20\n",
            "22/22 [==============================] - 2s 92ms/step - loss: 0.0922 - val_loss: 0.0877\n",
            "Epoch 4/20\n",
            "22/22 [==============================] - 2s 94ms/step - loss: 0.0920 - val_loss: 0.0876\n",
            "Epoch 5/20\n",
            "22/22 [==============================] - 2s 94ms/step - loss: 0.0918 - val_loss: 0.0876\n",
            "Epoch 6/20\n",
            "22/22 [==============================] - 2s 91ms/step - loss: 0.0917 - val_loss: 0.0876\n",
            "Epoch 7/20\n",
            "22/22 [==============================] - 2s 91ms/step - loss: 0.0916 - val_loss: 0.0876\n",
            "Epoch 8/20\n",
            "22/22 [==============================] - 2s 92ms/step - loss: 0.0914 - val_loss: 0.0876\n",
            "Epoch 9/20\n",
            "22/22 [==============================] - 2s 93ms/step - loss: 0.0913 - val_loss: 0.0876\n",
            "Epoch 10/20\n",
            "22/22 [==============================] - 2s 90ms/step - loss: 0.0912 - val_loss: 0.0876\n",
            "Epoch 11/20\n",
            "22/22 [==============================] - 2s 91ms/step - loss: 0.0911 - val_loss: 0.0876\n",
            "Epoch 12/20\n",
            "22/22 [==============================] - 2s 91ms/step - loss: 0.0910 - val_loss: 0.0876\n",
            "Epoch 13/20\n",
            "22/22 [==============================] - 2s 92ms/step - loss: 0.0909 - val_loss: 0.0876\n",
            "Epoch 14/20\n",
            "22/22 [==============================] - 2s 92ms/step - loss: 0.0909 - val_loss: 0.0876\n",
            "Epoch 15/20\n",
            "22/22 [==============================] - 2s 90ms/step - loss: 0.0908 - val_loss: 0.0875\n",
            "Epoch 16/20\n",
            "22/22 [==============================] - 2s 90ms/step - loss: 0.0907 - val_loss: 0.0875\n",
            "Epoch 17/20\n",
            "22/22 [==============================] - 2s 91ms/step - loss: 0.0906 - val_loss: 0.0875\n",
            "Epoch 18/20\n",
            "22/22 [==============================] - 2s 89ms/step - loss: 0.0905 - val_loss: 0.0874\n",
            "Epoch 19/20\n",
            "22/22 [==============================] - 2s 91ms/step - loss: 0.0904 - val_loss: 0.0874\n",
            "Epoch 20/20\n",
            "22/22 [==============================] - 2s 90ms/step - loss: 0.0904 - val_loss: 0.0874\n"
          ]
        }
      ],
      "source": [
        "history = model.fit(X_train, y_train, epochs=20, batch_size=64, shuffle=False, validation_split=0.20)"
      ],
      "id": "ZompHQmvkTOy"
    },
    {
      "cell_type": "markdown",
      "source": [
        "**MSE**"
      ],
      "metadata": {
        "id": "JGC3Yn9FkUk0"
      },
      "id": "JGC3Yn9FkUk0"
    },
    {
      "cell_type": "code",
      "execution_count": 37,
      "metadata": {
        "colab": {
          "base_uri": "https://localhost:8080/"
        },
        "outputId": "7291cd2c-1ac4-425a-c5fd-d0ff8771a18f",
        "id": "C9fz4i-QgpZz"
      },
      "outputs": [
        {
          "output_type": "stream",
          "name": "stdout",
          "text": [
            "14/14 [==============================] - 0s 17ms/step\n",
            "14/14 [==============================] - 0s 16ms/step - loss: 0.0928\n"
          ]
        },
        {
          "output_type": "execute_result",
          "data": {
            "text/plain": [
              "0.0927758514881134"
            ]
          },
          "metadata": {},
          "execution_count": 37
        }
      ],
      "source": [
        "predicteddata = model.predict(X_test)\n",
        "model.evaluate(X_test, y_test)"
      ],
      "id": "C9fz4i-QgpZz"
    },
    {
      "cell_type": "markdown",
      "source": [
        "**RMSE**"
      ],
      "metadata": {
        "id": "VQSZuxZCkWQV"
      },
      "id": "VQSZuxZCkWQV"
    },
    {
      "cell_type": "code",
      "execution_count": 38,
      "metadata": {
        "colab": {
          "base_uri": "https://localhost:8080/"
        },
        "outputId": "10ab305b-06da-4088-8852-14d9bdbac258",
        "id": "xLdFJpjNgsmj"
      },
      "outputs": [
        {
          "output_type": "stream",
          "name": "stdout",
          "text": [
            "Test set: Root Squared Mean Error 0.30459129599631685\n"
          ]
        }
      ],
      "source": [
        "mse = mean_squared_error(y_test, predicteddata)\n",
        "print('Test set: Root Squared Mean Error', np.sqrt(mse))"
      ],
      "id": "xLdFJpjNgsmj"
    },
    {
      "cell_type": "code",
      "source": [
        "configure_plotly_browser_state()\n",
        "plt.figure(figsize=(16,8))\n",
        "plt.title('Nadam and Swish')\n",
        "plt.plot(history.history['loss'], label='Train loss')\n",
        "plt.plot(history.history['val_loss'], label='Validation loss')\n",
        "plt.xlabel('Epochs', fontsize=18)\n",
        "plt.ylabel('MSE', fontsize=18)\n",
        "plt.show()"
      ],
      "metadata": {
        "colab": {
          "base_uri": "https://localhost:8080/",
          "height": 521
        },
        "id": "LwsMWxTh6b2o",
        "outputId": "33d7f7f3-d552-449e-a77f-9e06db52d010"
      },
      "id": "LwsMWxTh6b2o",
      "execution_count": 39,
      "outputs": [
        {
          "output_type": "display_data",
          "data": {
            "text/plain": [
              "<IPython.core.display.HTML object>"
            ],
            "text/html": [
              "\n",
              "        <script src=\"/static/components/requirejs/require.js\"></script>\n",
              "        <script>\n",
              "          requirejs.config({\n",
              "            paths: {\n",
              "              base: '/static/base',\n",
              "              plotly: 'https://cdn.plot.ly/plotly-latest.min.js?noext',\n",
              "            },\n",
              "          });\n",
              "        </script>\n",
              "        "
            ]
          },
          "metadata": {}
        },
        {
          "output_type": "display_data",
          "data": {
            "text/plain": [
              "<Figure size 1152x576 with 1 Axes>"
            ],
            "image/png": "[encoded data removed]"
          },
          "metadata": {
            "needs_background": "light"
          }
        }
      ]
    },
    {
      "cell_type": "code",
      "source": [
        "clvp=pd.DataFrame(predicteddata)\n",
        "yv=pd.DataFrame(y_test)\n",
        "display_side_by_side(yv.head(10)*100,clvp.head(10)*100, titles=['Actual','Predicted'])"
      ],
      "metadata": {
        "colab": {
          "base_uri": "https://localhost:8080/",
          "height": 803
        },
        "id": "UrbTprNI5SQK",
        "outputId": "cfad9f80-1e6d-4843-a3d8-81f52f1ab64b"
      },
      "id": "UrbTprNI5SQK",
      "execution_count": 40,
      "outputs": [
        {
          "output_type": "display_data",
          "data": {
            "text/html": [
              "<th style=\"text-align:center\"><td style=\"vertical-align:top\"><h2>Actual</h2><table style=\"display:inline\" border=\"1\" class=\"dataframe\">\n",
              "  <thead>\n",
              "    <tr style=\"text-align: right;\">\n",
              "      <th></th>\n",
              "      <th>0</th>\n",
              "    </tr>\n",
              "  </thead>\n",
              "  <tbody>\n",
              "    <tr>\n",
              "      <th>0</th>\n",
              "      <td>86.666667</td>\n",
              "    </tr>\n",
              "    <tr>\n",
              "      <th>1</th>\n",
              "      <td>53.333333</td>\n",
              "    </tr>\n",
              "    <tr>\n",
              "      <th>2</th>\n",
              "      <td>48.333333</td>\n",
              "    </tr>\n",
              "    <tr>\n",
              "      <th>3</th>\n",
              "      <td>95.000000</td>\n",
              "    </tr>\n",
              "    <tr>\n",
              "      <th>4</th>\n",
              "      <td>1.666667</td>\n",
              "    </tr>\n",
              "    <tr>\n",
              "      <th>5</th>\n",
              "      <td>60.000000</td>\n",
              "    </tr>\n",
              "    <tr>\n",
              "      <th>6</th>\n",
              "      <td>46.666667</td>\n",
              "    </tr>\n",
              "    <tr>\n",
              "      <th>7</th>\n",
              "      <td>26.666667</td>\n",
              "    </tr>\n",
              "    <tr>\n",
              "      <th>8</th>\n",
              "      <td>40.000000</td>\n",
              "    </tr>\n",
              "    <tr>\n",
              "      <th>9</th>\n",
              "      <td>5.000000</td>\n",
              "    </tr>\n",
              "  </tbody>\n",
              "</table style=\"display:inline\"></td></th><th style=\"text-align:center\"><td style=\"vertical-align:top\"><h2>Predicted</h2><table style=\"display:inline\" border=\"1\" class=\"dataframe\">\n",
              "  <thead>\n",
              "    <tr style=\"text-align: right;\">\n",
              "      <th></th>\n",
              "      <th>0</th>\n",
              "    </tr>\n",
              "  </thead>\n",
              "  <tbody>\n",
              "    <tr>\n",
              "      <th>0</th>\n",
              "      <td>47.904140</td>\n",
              "    </tr>\n",
              "    <tr>\n",
              "      <th>1</th>\n",
              "      <td>45.911652</td>\n",
              "    </tr>\n",
              "    <tr>\n",
              "      <th>2</th>\n",
              "      <td>47.188099</td>\n",
              "    </tr>\n",
              "    <tr>\n",
              "      <th>3</th>\n",
              "      <td>48.373310</td>\n",
              "    </tr>\n",
              "    <tr>\n",
              "      <th>4</th>\n",
              "      <td>47.999306</td>\n",
              "    </tr>\n",
              "    <tr>\n",
              "      <th>5</th>\n",
              "      <td>50.150703</td>\n",
              "    </tr>\n",
              "    <tr>\n",
              "      <th>6</th>\n",
              "      <td>48.742920</td>\n",
              "    </tr>\n",
              "    <tr>\n",
              "      <th>7</th>\n",
              "      <td>46.635025</td>\n",
              "    </tr>\n",
              "    <tr>\n",
              "      <th>8</th>\n",
              "      <td>46.277538</td>\n",
              "    </tr>\n",
              "    <tr>\n",
              "      <th>9</th>\n",
              "      <td>47.459011</td>\n",
              "    </tr>\n",
              "  </tbody>\n",
              "</table style=\"display:inline\"></td></th>"
            ]
          },
          "metadata": {}
        }
      ]
    }
  ],
  "metadata": {
    "kernelspec": {
      "display_name": "Python 3",
      "language": "python",
      "name": "python3"
    },
    "language_info": {
      "codemirror_mode": {
        "name": "ipython",
        "version": 3
      },
      "file_extension": ".py",
      "mimetype": "text/x-python",
      "name": "python",
      "nbconvert_exporter": "python",
      "pygments_lexer": "ipython3",
      "version": "3.8.8"
    },
    "colab": {
      "provenance": []
    }
  },
  "nbformat": 4,
  "nbformat_minor": 5
}